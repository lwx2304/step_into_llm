{
 "cells": [
  {
   "cell_type": "code",
   "execution_count": 1,
   "id": "45f9884a",
   "metadata": {},
   "outputs": [
    {
     "name": "stdout",
     "output_type": "stream",
     "text": [
      "2023-08-19 12:28:47,192 - mindformers - INFO - Config in the yaml file ./checkpoint_download/glm2/glm2_6b.yaml are used for tokenizer building.\n",
      "2023-08-19 12:28:47,232 - mindformers - INFO - Load the tokenizer name ChatGLM2Tokenizer from the ./checkpoint_download/glm2/glm2_6b.yaml\n",
      "2023-08-19 12:28:47,255 - mindformers - INFO - config in the yaml file ./checkpoint_download/glm2/glm2_6b.yaml are used for tokenizer building.\n",
      "2023-08-19 12:28:47,277 - mindformers - WARNING - Can't find the tokenizer_config.json in the file_dict. The content of file_dict is : {}\n",
      "2023-08-19 12:28:47,287 - mindformers - INFO - build tokenizer class name is: ChatGLM2Tokenizer using args {'bos_token': '<sop>', 'eos_token': '<eop>', 'end_token': '</s>', 'mask_token': '[MASK]', 'gmask_token': '[gMASK]', 'pad_token': '<pad>', 'unk_token': '<unk>', 'vocab_file': './checkpoint_download/glm2/tokenizer.model'}.\n",
      "2023-08-19 12:28:47,367 - mindformers - INFO - ChatGLM2Tokenizer Tokenizer built successfully!\n",
      "2023-08-19 12:30:55,807 - mindformers - INFO - start to read the ckpt file: 12487185277\n"
     ]
    },
    {
     "name": "stderr",
     "output_type": "stream",
     "text": [
      "[WARNING] ME(92:140701036474944,MainProcess):2023-08-19-12:31:31.720.750 [mindspore/train/serialization.py:167] The type of transformer.embedding.embedding_table:Float16 in 'parameter_dict' is different from the type of it in 'net':Float32, then the type convert from Float16 to Float32 in the network.\n",
      "[WARNING] ME(92:140701036474944,MainProcess):2023-08-19-12:31:32.542.453 [mindspore/train/serialization.py:167] The type of transformer.encoder.layers.0.input_layernorm.weight:Float16 in 'parameter_dict' is different from the type of it in 'net':Float32, then the type convert from Float16 to Float32 in the network.\n",
      "[WARNING] ME(92:140701036474944,MainProcess):2023-08-19-12:31:32.596.214 [mindspore/train/serialization.py:167] The type of transformer.encoder.layers.0.post_attention_layernorm.weight:Float16 in 'parameter_dict' is different from the type of it in 'net':Float32, then the type convert from Float16 to Float32 in the network.\n",
      "[WARNING] ME(92:140701036474944,MainProcess):2023-08-19-12:31:32.837.125 [mindspore/train/serialization.py:167] The type of transformer.encoder.layers.1.input_layernorm.weight:Float16 in 'parameter_dict' is different from the type of it in 'net':Float32, then the type convert from Float16 to Float32 in the network.\n",
      "[WARNING] ME(92:140701036474944,MainProcess):2023-08-19-12:31:32.890.173 [mindspore/train/serialization.py:167] The type of transformer.encoder.layers.1.post_attention_layernorm.weight:Float16 in 'parameter_dict' is different from the type of it in 'net':Float32, then the type convert from Float16 to Float32 in the network.\n",
      "[WARNING] ME(92:140701036474944,MainProcess):2023-08-19-12:31:33.131.265 [mindspore/train/serialization.py:167] The type of transformer.encoder.layers.2.input_layernorm.weight:Float16 in 'parameter_dict' is different from the type of it in 'net':Float32, then the type convert from Float16 to Float32 in the network.\n",
      "[WARNING] ME(92:140701036474944,MainProcess):2023-08-19-12:31:33.182.584 [mindspore/train/serialization.py:167] The type of transformer.encoder.layers.2.post_attention_layernorm.weight:Float16 in 'parameter_dict' is different from the type of it in 'net':Float32, then the type convert from Float16 to Float32 in the network.\n",
      "[WARNING] ME(92:140701036474944,MainProcess):2023-08-19-12:31:33.420.670 [mindspore/train/serialization.py:167] The type of transformer.encoder.layers.3.input_layernorm.weight:Float16 in 'parameter_dict' is different from the type of it in 'net':Float32, then the type convert from Float16 to Float32 in the network.\n",
      "[WARNING] ME(92:140701036474944,MainProcess):2023-08-19-12:31:33.474.151 [mindspore/train/serialization.py:167] The type of transformer.encoder.layers.3.post_attention_layernorm.weight:Float16 in 'parameter_dict' is different from the type of it in 'net':Float32, then the type convert from Float16 to Float32 in the network.\n",
      "[WARNING] ME(92:140701036474944,MainProcess):2023-08-19-12:31:33.716.354 [mindspore/train/serialization.py:167] The type of transformer.encoder.layers.4.input_layernorm.weight:Float16 in 'parameter_dict' is different from the type of it in 'net':Float32, then the type convert from Float16 to Float32 in the network.\n",
      "[WARNING] ME(92:140701036474944,MainProcess):2023-08-19-12:31:33.768.949 [mindspore/train/serialization.py:167] The type of transformer.encoder.layers.4.post_attention_layernorm.weight:Float16 in 'parameter_dict' is different from the type of it in 'net':Float32, then the type convert from Float16 to Float32 in the network.\n",
      "[WARNING] ME(92:140701036474944,MainProcess):2023-08-19-12:31:34.102.41 [mindspore/train/serialization.py:167] The type of transformer.encoder.layers.5.input_layernorm.weight:Float16 in 'parameter_dict' is different from the type of it in 'net':Float32, then the type convert from Float16 to Float32 in the network.\n",
      "[WARNING] ME(92:140701036474944,MainProcess):2023-08-19-12:31:34.619.47 [mindspore/train/serialization.py:167] The type of transformer.encoder.layers.5.post_attention_layernorm.weight:Float16 in 'parameter_dict' is different from the type of it in 'net':Float32, then the type convert from Float16 to Float32 in the network.\n",
      "[WARNING] ME(92:140701036474944,MainProcess):2023-08-19-12:31:34.302.408 [mindspore/train/serialization.py:167] The type of transformer.encoder.layers.6.input_layernorm.weight:Float16 in 'parameter_dict' is different from the type of it in 'net':Float32, then the type convert from Float16 to Float32 in the network.\n",
      "[WARNING] ME(92:140701036474944,MainProcess):2023-08-19-12:31:34.353.860 [mindspore/train/serialization.py:167] The type of transformer.encoder.layers.6.post_attention_layernorm.weight:Float16 in 'parameter_dict' is different from the type of it in 'net':Float32, then the type convert from Float16 to Float32 in the network.\n",
      "[WARNING] ME(92:140701036474944,MainProcess):2023-08-19-12:31:34.591.893 [mindspore/train/serialization.py:167] The type of transformer.encoder.layers.7.input_layernorm.weight:Float16 in 'parameter_dict' is different from the type of it in 'net':Float32, then the type convert from Float16 to Float32 in the network.\n",
      "[WARNING] ME(92:140701036474944,MainProcess):2023-08-19-12:31:34.643.896 [mindspore/train/serialization.py:167] The type of transformer.encoder.layers.7.post_attention_layernorm.weight:Float16 in 'parameter_dict' is different from the type of it in 'net':Float32, then the type convert from Float16 to Float32 in the network.\n",
      "[WARNING] ME(92:140701036474944,MainProcess):2023-08-19-12:31:34.884.708 [mindspore/train/serialization.py:167] The type of transformer.encoder.layers.8.input_layernorm.weight:Float16 in 'parameter_dict' is different from the type of it in 'net':Float32, then the type convert from Float16 to Float32 in the network.\n",
      "[WARNING] ME(92:140701036474944,MainProcess):2023-08-19-12:31:34.938.088 [mindspore/train/serialization.py:167] The type of transformer.encoder.layers.8.post_attention_layernorm.weight:Float16 in 'parameter_dict' is different from the type of it in 'net':Float32, then the type convert from Float16 to Float32 in the network.\n",
      "[WARNING] ME(92:140701036474944,MainProcess):2023-08-19-12:31:35.179.295 [mindspore/train/serialization.py:167] The type of transformer.encoder.layers.9.input_layernorm.weight:Float16 in 'parameter_dict' is different from the type of it in 'net':Float32, then the type convert from Float16 to Float32 in the network.\n",
      "[WARNING] ME(92:140701036474944,MainProcess):2023-08-19-12:31:35.232.128 [mindspore/train/serialization.py:167] The type of transformer.encoder.layers.9.post_attention_layernorm.weight:Float16 in 'parameter_dict' is different from the type of it in 'net':Float32, then the type convert from Float16 to Float32 in the network.\n",
      "[WARNING] ME(92:140701036474944,MainProcess):2023-08-19-12:31:35.521.534 [mindspore/train/serialization.py:167] The type of transformer.encoder.layers.10.input_layernorm.weight:Float16 in 'parameter_dict' is different from the type of it in 'net':Float32, then the type convert from Float16 to Float32 in the network.\n",
      "[WARNING] ME(92:140701036474944,MainProcess):2023-08-19-12:31:35.578.269 [mindspore/train/serialization.py:167] The type of transformer.encoder.layers.10.post_attention_layernorm.weight:Float16 in 'parameter_dict' is different from the type of it in 'net':Float32, then the type convert from Float16 to Float32 in the network.\n",
      "[WARNING] ME(92:140701036474944,MainProcess):2023-08-19-12:31:35.816.614 [mindspore/train/serialization.py:167] The type of transformer.encoder.layers.11.input_layernorm.weight:Float16 in 'parameter_dict' is different from the type of it in 'net':Float32, then the type convert from Float16 to Float32 in the network.\n",
      "[WARNING] ME(92:140701036474944,MainProcess):2023-08-19-12:31:35.870.107 [mindspore/train/serialization.py:167] The type of transformer.encoder.layers.11.post_attention_layernorm.weight:Float16 in 'parameter_dict' is different from the type of it in 'net':Float32, then the type convert from Float16 to Float32 in the network.\n",
      "[WARNING] ME(92:140701036474944,MainProcess):2023-08-19-12:31:36.111.805 [mindspore/train/serialization.py:167] The type of transformer.encoder.layers.12.input_layernorm.weight:Float16 in 'parameter_dict' is different from the type of it in 'net':Float32, then the type convert from Float16 to Float32 in the network.\n",
      "[WARNING] ME(92:140701036474944,MainProcess):2023-08-19-12:31:36.165.041 [mindspore/train/serialization.py:167] The type of transformer.encoder.layers.12.post_attention_layernorm.weight:Float16 in 'parameter_dict' is different from the type of it in 'net':Float32, then the type convert from Float16 to Float32 in the network.\n",
      "[WARNING] ME(92:140701036474944,MainProcess):2023-08-19-12:31:36.413.558 [mindspore/train/serialization.py:167] The type of transformer.encoder.layers.13.input_layernorm.weight:Float16 in 'parameter_dict' is different from the type of it in 'net':Float32, then the type convert from Float16 to Float32 in the network.\n",
      "[WARNING] ME(92:140701036474944,MainProcess):2023-08-19-12:31:36.466.651 [mindspore/train/serialization.py:167] The type of transformer.encoder.layers.13.post_attention_layernorm.weight:Float16 in 'parameter_dict' is different from the type of it in 'net':Float32, then the type convert from Float16 to Float32 in the network.\n",
      "[WARNING] ME(92:140701036474944,MainProcess):2023-08-19-12:31:36.704.563 [mindspore/train/serialization.py:167] The type of transformer.encoder.layers.14.input_layernorm.weight:Float16 in 'parameter_dict' is different from the type of it in 'net':Float32, then the type convert from Float16 to Float32 in the network.\n",
      "[WARNING] ME(92:140701036474944,MainProcess):2023-08-19-12:31:36.755.858 [mindspore/train/serialization.py:167] The type of transformer.encoder.layers.14.post_attention_layernorm.weight:Float16 in 'parameter_dict' is different from the type of it in 'net':Float32, then the type convert from Float16 to Float32 in the network.\n",
      "[WARNING] ME(92:140701036474944,MainProcess):2023-08-19-12:31:37.177.0 [mindspore/train/serialization.py:167] The type of transformer.encoder.layers.15.input_layernorm.weight:Float16 in 'parameter_dict' is different from the type of it in 'net':Float32, then the type convert from Float16 to Float32 in the network.\n",
      "[WARNING] ME(92:140701036474944,MainProcess):2023-08-19-12:31:37.539.56 [mindspore/train/serialization.py:167] The type of transformer.encoder.layers.15.post_attention_layernorm.weight:Float16 in 'parameter_dict' is different from the type of it in 'net':Float32, then the type convert from Float16 to Float32 in the network.\n",
      "[WARNING] ME(92:140701036474944,MainProcess):2023-08-19-12:31:37.294.190 [mindspore/train/serialization.py:167] The type of transformer.encoder.layers.16.input_layernorm.weight:Float16 in 'parameter_dict' is different from the type of it in 'net':Float32, then the type convert from Float16 to Float32 in the network.\n",
      "[WARNING] ME(92:140701036474944,MainProcess):2023-08-19-12:31:37.346.847 [mindspore/train/serialization.py:167] The type of transformer.encoder.layers.16.post_attention_layernorm.weight:Float16 in 'parameter_dict' is different from the type of it in 'net':Float32, then the type convert from Float16 to Float32 in the network.\n",
      "[WARNING] ME(92:140701036474944,MainProcess):2023-08-19-12:31:37.585.228 [mindspore/train/serialization.py:167] The type of transformer.encoder.layers.17.input_layernorm.weight:Float16 in 'parameter_dict' is different from the type of it in 'net':Float32, then the type convert from Float16 to Float32 in the network.\n",
      "[WARNING] ME(92:140701036474944,MainProcess):2023-08-19-12:31:37.639.162 [mindspore/train/serialization.py:167] The type of transformer.encoder.layers.17.post_attention_layernorm.weight:Float16 in 'parameter_dict' is different from the type of it in 'net':Float32, then the type convert from Float16 to Float32 in the network.\n",
      "[WARNING] ME(92:140701036474944,MainProcess):2023-08-19-12:31:37.876.945 [mindspore/train/serialization.py:167] The type of transformer.encoder.layers.18.input_layernorm.weight:Float16 in 'parameter_dict' is different from the type of it in 'net':Float32, then the type convert from Float16 to Float32 in the network.\n",
      "[WARNING] ME(92:140701036474944,MainProcess):2023-08-19-12:31:37.929.900 [mindspore/train/serialization.py:167] The type of transformer.encoder.layers.18.post_attention_layernorm.weight:Float16 in 'parameter_dict' is different from the type of it in 'net':Float32, then the type convert from Float16 to Float32 in the network.\n",
      "[WARNING] ME(92:140701036474944,MainProcess):2023-08-19-12:31:38.228.189 [mindspore/train/serialization.py:167] The type of transformer.encoder.layers.19.input_layernorm.weight:Float16 in 'parameter_dict' is different from the type of it in 'net':Float32, then the type convert from Float16 to Float32 in the network.\n",
      "[WARNING] ME(92:140701036474944,MainProcess):2023-08-19-12:31:38.278.365 [mindspore/train/serialization.py:167] The type of transformer.encoder.layers.19.post_attention_layernorm.weight:Float16 in 'parameter_dict' is different from the type of it in 'net':Float32, then the type convert from Float16 to Float32 in the network.\n",
      "[WARNING] ME(92:140701036474944,MainProcess):2023-08-19-12:31:38.582.252 [mindspore/train/serialization.py:167] The type of transformer.encoder.layers.20.input_layernorm.weight:Float16 in 'parameter_dict' is different from the type of it in 'net':Float32, then the type convert from Float16 to Float32 in the network.\n",
      "[WARNING] ME(92:140701036474944,MainProcess):2023-08-19-12:31:38.634.592 [mindspore/train/serialization.py:167] The type of transformer.encoder.layers.20.post_attention_layernorm.weight:Float16 in 'parameter_dict' is different from the type of it in 'net':Float32, then the type convert from Float16 to Float32 in the network.\n",
      "[WARNING] ME(92:140701036474944,MainProcess):2023-08-19-12:31:38.935.879 [mindspore/train/serialization.py:167] The type of transformer.encoder.layers.21.input_layernorm.weight:Float16 in 'parameter_dict' is different from the type of it in 'net':Float32, then the type convert from Float16 to Float32 in the network.\n",
      "[WARNING] ME(92:140701036474944,MainProcess):2023-08-19-12:31:38.985.836 [mindspore/train/serialization.py:167] The type of transformer.encoder.layers.21.post_attention_layernorm.weight:Float16 in 'parameter_dict' is different from the type of it in 'net':Float32, then the type convert from Float16 to Float32 in the network.\n",
      "[WARNING] ME(92:140701036474944,MainProcess):2023-08-19-12:31:39.286.993 [mindspore/train/serialization.py:167] The type of transformer.encoder.layers.22.input_layernorm.weight:Float16 in 'parameter_dict' is different from the type of it in 'net':Float32, then the type convert from Float16 to Float32 in the network.\n",
      "[WARNING] ME(92:140701036474944,MainProcess):2023-08-19-12:31:39.338.698 [mindspore/train/serialization.py:167] The type of transformer.encoder.layers.22.post_attention_layernorm.weight:Float16 in 'parameter_dict' is different from the type of it in 'net':Float32, then the type convert from Float16 to Float32 in the network.\n",
      "[WARNING] ME(92:140701036474944,MainProcess):2023-08-19-12:31:39.635.339 [mindspore/train/serialization.py:167] The type of transformer.encoder.layers.23.input_layernorm.weight:Float16 in 'parameter_dict' is different from the type of it in 'net':Float32, then the type convert from Float16 to Float32 in the network.\n",
      "[WARNING] ME(92:140701036474944,MainProcess):2023-08-19-12:31:39.690.120 [mindspore/train/serialization.py:167] The type of transformer.encoder.layers.23.post_attention_layernorm.weight:Float16 in 'parameter_dict' is different from the type of it in 'net':Float32, then the type convert from Float16 to Float32 in the network.\n",
      "[WARNING] ME(92:140701036474944,MainProcess):2023-08-19-12:31:39.987.866 [mindspore/train/serialization.py:167] The type of transformer.encoder.layers.24.input_layernorm.weight:Float16 in 'parameter_dict' is different from the type of it in 'net':Float32, then the type convert from Float16 to Float32 in the network.\n",
      "[WARNING] ME(92:140701036474944,MainProcess):2023-08-19-12:31:40.469.43 [mindspore/train/serialization.py:167] The type of transformer.encoder.layers.24.post_attention_layernorm.weight:Float16 in 'parameter_dict' is different from the type of it in 'net':Float32, then the type convert from Float16 to Float32 in the network.\n",
      "[WARNING] ME(92:140701036474944,MainProcess):2023-08-19-12:31:40.353.575 [mindspore/train/serialization.py:167] The type of transformer.encoder.layers.25.input_layernorm.weight:Float16 in 'parameter_dict' is different from the type of it in 'net':Float32, then the type convert from Float16 to Float32 in the network.\n",
      "[WARNING] ME(92:140701036474944,MainProcess):2023-08-19-12:31:40.437.945 [mindspore/train/serialization.py:167] The type of transformer.encoder.layers.25.post_attention_layernorm.weight:Float16 in 'parameter_dict' is different from the type of it in 'net':Float32, then the type convert from Float16 to Float32 in the network.\n",
      "[WARNING] ME(92:140701036474944,MainProcess):2023-08-19-12:31:40.741.459 [mindspore/train/serialization.py:167] The type of transformer.encoder.layers.26.input_layernorm.weight:Float16 in 'parameter_dict' is different from the type of it in 'net':Float32, then the type convert from Float16 to Float32 in the network.\n",
      "[WARNING] ME(92:140701036474944,MainProcess):2023-08-19-12:31:40.808.814 [mindspore/train/serialization.py:167] The type of transformer.encoder.layers.26.post_attention_layernorm.weight:Float16 in 'parameter_dict' is different from the type of it in 'net':Float32, then the type convert from Float16 to Float32 in the network.\n",
      "[WARNING] ME(92:140701036474944,MainProcess):2023-08-19-12:31:41.500.34 [mindspore/train/serialization.py:167] The type of transformer.encoder.layers.27.input_layernorm.weight:Float16 in 'parameter_dict' is different from the type of it in 'net':Float32, then the type convert from Float16 to Float32 in the network.\n",
      "[WARNING] ME(92:140701036474944,MainProcess):2023-08-19-12:31:41.116.980 [mindspore/train/serialization.py:167] The type of transformer.encoder.layers.27.post_attention_layernorm.weight:Float16 in 'parameter_dict' is different from the type of it in 'net':Float32, then the type convert from Float16 to Float32 in the network.\n",
      "[WARNING] ME(92:140701036474944,MainProcess):2023-08-19-12:31:41.357.288 [mindspore/train/serialization.py:167] The type of transformer.encoder.final_layernorm.weight:Float16 in 'parameter_dict' is different from the type of it in 'net':Float32, then the type convert from Float16 to Float32 in the network.\n"
     ]
    },
    {
     "name": "stdout",
     "output_type": "stream",
     "text": [
      "2023-08-19 12:31:41,733 - mindformers - INFO - weights in ./checkpoint_download/glm2/glm2_6b.ckpt are loaded\n",
      "2023-08-19 12:31:41,735 - mindformers - INFO - model built successfully!\n",
      "[Round 1]\n",
      "\n",
      "问：你好\n",
      "\n",
      "答： 你好👋！我是人工智能助手 ChatGLM2-6B，很高兴见到你，欢迎问我任何问题。\n"
     ]
    }
   ],
   "source": [
    "from mindformers import AutoTokenizer, AutoModel\n",
    "\n",
    "\n",
    "tokenizer = AutoTokenizer.from_pretrained(\"glm2_6b\")\n",
    "model = AutoModel.from_pretrained(\"glm2_6b\")\n",
    "\n",
    "query = \"你好\"\n",
    "\n",
    "prompted_inputs = tokenizer.build_prompt(query)\n",
    "input_tokens = tokenizer([prompted_inputs])\n",
    "\n",
    "outputs = model.generate(input_tokens[\"input_ids\"], max_length=100)\n",
    "response = tokenizer.decode(outputs)[0]\n",
    "print(response)"
   ]
  },
  {
   "cell_type": "code",
   "execution_count": 1,
   "id": "3ea0b074",
   "metadata": {},
   "outputs": [
    {
     "name": "stdout",
     "output_type": "stream",
     "text": [
      "2023-08-24 10:37:14,086 - mindformers - INFO - Config in the yaml file ./checkpoint_download/glm2/glm2_6b.yaml are used for tokenizer building.\n",
      "2023-08-24 10:37:14,107 - mindformers - INFO - Load the tokenizer name ChatGLM2Tokenizer from the ./checkpoint_download/glm2/glm2_6b.yaml\n",
      "2023-08-24 10:37:14,126 - mindformers - INFO - config in the yaml file ./checkpoint_download/glm2/glm2_6b.yaml are used for tokenizer building.\n",
      "2023-08-24 10:37:14,144 - mindformers - WARNING - Can't find the tokenizer_config.json in the file_dict. The content of file_dict is : {}\n",
      "2023-08-24 10:37:14,145 - mindformers - INFO - build tokenizer class name is: ChatGLM2Tokenizer using args {'bos_token': '<sop>', 'eos_token': '<eop>', 'end_token': '</s>', 'mask_token': '[MASK]', 'gmask_token': '[gMASK]', 'pad_token': '<pad>', 'unk_token': '<unk>', 'vocab_file': './checkpoint_download/glm2/tokenizer.model'}.\n",
      "2023-08-24 10:37:14,175 - mindformers - INFO - ChatGLM2Tokenizer Tokenizer built successfully!\n",
      "2023-08-24 10:39:28,886 - mindformers - INFO - start to read the ckpt file: 12487185277\n"
     ]
    },
    {
     "name": "stderr",
     "output_type": "stream",
     "text": [
      "[WARNING] ME(802:139864847356480,MainProcess):2023-08-24-10:39:58.227.155 [mindspore/train/serialization.py:167] The type of transformer.embedding.embedding_table:Float16 in 'parameter_dict' is different from the type of it in 'net':Float32, then the type convert from Float16 to Float32 in the network.\n",
      "[WARNING] ME(802:139864847356480,MainProcess):2023-08-24-10:39:58.987.553 [mindspore/train/serialization.py:167] The type of transformer.encoder.layers.0.input_layernorm.weight:Float16 in 'parameter_dict' is different from the type of it in 'net':Float32, then the type convert from Float16 to Float32 in the network.\n",
      "[WARNING] ME(802:139864847356480,MainProcess):2023-08-24-10:39:59.380.92 [mindspore/train/serialization.py:167] The type of transformer.encoder.layers.0.post_attention_layernorm.weight:Float16 in 'parameter_dict' is different from the type of it in 'net':Float32, then the type convert from Float16 to Float32 in the network.\n",
      "[WARNING] ME(802:139864847356480,MainProcess):2023-08-24-10:39:59.278.176 [mindspore/train/serialization.py:167] The type of transformer.encoder.layers.1.input_layernorm.weight:Float16 in 'parameter_dict' is different from the type of it in 'net':Float32, then the type convert from Float16 to Float32 in the network.\n",
      "[WARNING] ME(802:139864847356480,MainProcess):2023-08-24-10:39:59.327.942 [mindspore/train/serialization.py:167] The type of transformer.encoder.layers.1.post_attention_layernorm.weight:Float16 in 'parameter_dict' is different from the type of it in 'net':Float32, then the type convert from Float16 to Float32 in the network.\n",
      "[WARNING] ME(802:139864847356480,MainProcess):2023-08-24-10:39:59.563.955 [mindspore/train/serialization.py:167] The type of transformer.encoder.layers.2.input_layernorm.weight:Float16 in 'parameter_dict' is different from the type of it in 'net':Float32, then the type convert from Float16 to Float32 in the network.\n",
      "[WARNING] ME(802:139864847356480,MainProcess):2023-08-24-10:39:59.614.545 [mindspore/train/serialization.py:167] The type of transformer.encoder.layers.2.post_attention_layernorm.weight:Float16 in 'parameter_dict' is different from the type of it in 'net':Float32, then the type convert from Float16 to Float32 in the network.\n",
      "[WARNING] ME(802:139864847356480,MainProcess):2023-08-24-10:39:59.854.768 [mindspore/train/serialization.py:167] The type of transformer.encoder.layers.3.input_layernorm.weight:Float16 in 'parameter_dict' is different from the type of it in 'net':Float32, then the type convert from Float16 to Float32 in the network.\n",
      "[WARNING] ME(802:139864847356480,MainProcess):2023-08-24-10:39:59.906.685 [mindspore/train/serialization.py:167] The type of transformer.encoder.layers.3.post_attention_layernorm.weight:Float16 in 'parameter_dict' is different from the type of it in 'net':Float32, then the type convert from Float16 to Float32 in the network.\n",
      "[WARNING] ME(802:139864847356480,MainProcess):2023-08-24-10:40:00.141.453 [mindspore/train/serialization.py:167] The type of transformer.encoder.layers.4.input_layernorm.weight:Float16 in 'parameter_dict' is different from the type of it in 'net':Float32, then the type convert from Float16 to Float32 in the network.\n",
      "[WARNING] ME(802:139864847356480,MainProcess):2023-08-24-10:40:00.193.227 [mindspore/train/serialization.py:167] The type of transformer.encoder.layers.4.post_attention_layernorm.weight:Float16 in 'parameter_dict' is different from the type of it in 'net':Float32, then the type convert from Float16 to Float32 in the network.\n",
      "[WARNING] ME(802:139864847356480,MainProcess):2023-08-24-10:40:00.433.916 [mindspore/train/serialization.py:167] The type of transformer.encoder.layers.5.input_layernorm.weight:Float16 in 'parameter_dict' is different from the type of it in 'net':Float32, then the type convert from Float16 to Float32 in the network.\n",
      "[WARNING] ME(802:139864847356480,MainProcess):2023-08-24-10:40:00.486.681 [mindspore/train/serialization.py:167] The type of transformer.encoder.layers.5.post_attention_layernorm.weight:Float16 in 'parameter_dict' is different from the type of it in 'net':Float32, then the type convert from Float16 to Float32 in the network.\n",
      "[WARNING] ME(802:139864847356480,MainProcess):2023-08-24-10:40:00.727.756 [mindspore/train/serialization.py:167] The type of transformer.encoder.layers.6.input_layernorm.weight:Float16 in 'parameter_dict' is different from the type of it in 'net':Float32, then the type convert from Float16 to Float32 in the network.\n",
      "[WARNING] ME(802:139864847356480,MainProcess):2023-08-24-10:40:00.784.875 [mindspore/train/serialization.py:167] The type of transformer.encoder.layers.6.post_attention_layernorm.weight:Float16 in 'parameter_dict' is different from the type of it in 'net':Float32, then the type convert from Float16 to Float32 in the network.\n",
      "[WARNING] ME(802:139864847356480,MainProcess):2023-08-24-10:40:01.272.33 [mindspore/train/serialization.py:167] The type of transformer.encoder.layers.7.input_layernorm.weight:Float16 in 'parameter_dict' is different from the type of it in 'net':Float32, then the type convert from Float16 to Float32 in the network.\n",
      "[WARNING] ME(802:139864847356480,MainProcess):2023-08-24-10:40:01.780.81 [mindspore/train/serialization.py:167] The type of transformer.encoder.layers.7.post_attention_layernorm.weight:Float16 in 'parameter_dict' is different from the type of it in 'net':Float32, then the type convert from Float16 to Float32 in the network.\n",
      "[WARNING] ME(802:139864847356480,MainProcess):2023-08-24-10:40:01.318.015 [mindspore/train/serialization.py:167] The type of transformer.encoder.layers.8.input_layernorm.weight:Float16 in 'parameter_dict' is different from the type of it in 'net':Float32, then the type convert from Float16 to Float32 in the network.\n",
      "[WARNING] ME(802:139864847356480,MainProcess):2023-08-24-10:40:01.367.669 [mindspore/train/serialization.py:167] The type of transformer.encoder.layers.8.post_attention_layernorm.weight:Float16 in 'parameter_dict' is different from the type of it in 'net':Float32, then the type convert from Float16 to Float32 in the network.\n",
      "[WARNING] ME(802:139864847356480,MainProcess):2023-08-24-10:40:01.603.450 [mindspore/train/serialization.py:167] The type of transformer.encoder.layers.9.input_layernorm.weight:Float16 in 'parameter_dict' is different from the type of it in 'net':Float32, then the type convert from Float16 to Float32 in the network.\n",
      "[WARNING] ME(802:139864847356480,MainProcess):2023-08-24-10:40:01.653.181 [mindspore/train/serialization.py:167] The type of transformer.encoder.layers.9.post_attention_layernorm.weight:Float16 in 'parameter_dict' is different from the type of it in 'net':Float32, then the type convert from Float16 to Float32 in the network.\n",
      "[WARNING] ME(802:139864847356480,MainProcess):2023-08-24-10:40:01.942.089 [mindspore/train/serialization.py:167] The type of transformer.encoder.layers.10.input_layernorm.weight:Float16 in 'parameter_dict' is different from the type of it in 'net':Float32, then the type convert from Float16 to Float32 in the network.\n",
      "[WARNING] ME(802:139864847356480,MainProcess):2023-08-24-10:40:01.992.547 [mindspore/train/serialization.py:167] The type of transformer.encoder.layers.10.post_attention_layernorm.weight:Float16 in 'parameter_dict' is different from the type of it in 'net':Float32, then the type convert from Float16 to Float32 in the network.\n",
      "[WARNING] ME(802:139864847356480,MainProcess):2023-08-24-10:40:02.229.483 [mindspore/train/serialization.py:167] The type of transformer.encoder.layers.11.input_layernorm.weight:Float16 in 'parameter_dict' is different from the type of it in 'net':Float32, then the type convert from Float16 to Float32 in the network.\n",
      "[WARNING] ME(802:139864847356480,MainProcess):2023-08-24-10:40:02.287.798 [mindspore/train/serialization.py:167] The type of transformer.encoder.layers.11.post_attention_layernorm.weight:Float16 in 'parameter_dict' is different from the type of it in 'net':Float32, then the type convert from Float16 to Float32 in the network.\n",
      "[WARNING] ME(802:139864847356480,MainProcess):2023-08-24-10:40:02.552.870 [mindspore/train/serialization.py:167] The type of transformer.encoder.layers.12.input_layernorm.weight:Float16 in 'parameter_dict' is different from the type of it in 'net':Float32, then the type convert from Float16 to Float32 in the network.\n",
      "[WARNING] ME(802:139864847356480,MainProcess):2023-08-24-10:40:02.609.927 [mindspore/train/serialization.py:167] The type of transformer.encoder.layers.12.post_attention_layernorm.weight:Float16 in 'parameter_dict' is different from the type of it in 'net':Float32, then the type convert from Float16 to Float32 in the network.\n",
      "[WARNING] ME(802:139864847356480,MainProcess):2023-08-24-10:40:02.875.639 [mindspore/train/serialization.py:167] The type of transformer.encoder.layers.13.input_layernorm.weight:Float16 in 'parameter_dict' is different from the type of it in 'net':Float32, then the type convert from Float16 to Float32 in the network.\n",
      "[WARNING] ME(802:139864847356480,MainProcess):2023-08-24-10:40:02.932.308 [mindspore/train/serialization.py:167] The type of transformer.encoder.layers.13.post_attention_layernorm.weight:Float16 in 'parameter_dict' is different from the type of it in 'net':Float32, then the type convert from Float16 to Float32 in the network.\n",
      "[WARNING] ME(802:139864847356480,MainProcess):2023-08-24-10:40:03.181.394 [mindspore/train/serialization.py:167] The type of transformer.encoder.layers.14.input_layernorm.weight:Float16 in 'parameter_dict' is different from the type of it in 'net':Float32, then the type convert from Float16 to Float32 in the network.\n",
      "[WARNING] ME(802:139864847356480,MainProcess):2023-08-24-10:40:03.233.083 [mindspore/train/serialization.py:167] The type of transformer.encoder.layers.14.post_attention_layernorm.weight:Float16 in 'parameter_dict' is different from the type of it in 'net':Float32, then the type convert from Float16 to Float32 in the network.\n",
      "[WARNING] ME(802:139864847356480,MainProcess):2023-08-24-10:40:03.544.098 [mindspore/train/serialization.py:167] The type of transformer.encoder.layers.15.input_layernorm.weight:Float16 in 'parameter_dict' is different from the type of it in 'net':Float32, then the type convert from Float16 to Float32 in the network.\n",
      "[WARNING] ME(802:139864847356480,MainProcess):2023-08-24-10:40:03.594.993 [mindspore/train/serialization.py:167] The type of transformer.encoder.layers.15.post_attention_layernorm.weight:Float16 in 'parameter_dict' is different from the type of it in 'net':Float32, then the type convert from Float16 to Float32 in the network.\n",
      "[WARNING] ME(802:139864847356480,MainProcess):2023-08-24-10:40:03.896.634 [mindspore/train/serialization.py:167] The type of transformer.encoder.layers.16.input_layernorm.weight:Float16 in 'parameter_dict' is different from the type of it in 'net':Float32, then the type convert from Float16 to Float32 in the network.\n",
      "[WARNING] ME(802:139864847356480,MainProcess):2023-08-24-10:40:03.946.112 [mindspore/train/serialization.py:167] The type of transformer.encoder.layers.16.post_attention_layernorm.weight:Float16 in 'parameter_dict' is different from the type of it in 'net':Float32, then the type convert from Float16 to Float32 in the network.\n",
      "[WARNING] ME(802:139864847356480,MainProcess):2023-08-24-10:40:04.250.448 [mindspore/train/serialization.py:167] The type of transformer.encoder.layers.17.input_layernorm.weight:Float16 in 'parameter_dict' is different from the type of it in 'net':Float32, then the type convert from Float16 to Float32 in the network.\n",
      "[WARNING] ME(802:139864847356480,MainProcess):2023-08-24-10:40:04.299.965 [mindspore/train/serialization.py:167] The type of transformer.encoder.layers.17.post_attention_layernorm.weight:Float16 in 'parameter_dict' is different from the type of it in 'net':Float32, then the type convert from Float16 to Float32 in the network.\n",
      "[WARNING] ME(802:139864847356480,MainProcess):2023-08-24-10:40:04.607.759 [mindspore/train/serialization.py:167] The type of transformer.encoder.layers.18.input_layernorm.weight:Float16 in 'parameter_dict' is different from the type of it in 'net':Float32, then the type convert from Float16 to Float32 in the network.\n",
      "[WARNING] ME(802:139864847356480,MainProcess):2023-08-24-10:40:04.657.619 [mindspore/train/serialization.py:167] The type of transformer.encoder.layers.18.post_attention_layernorm.weight:Float16 in 'parameter_dict' is different from the type of it in 'net':Float32, then the type convert from Float16 to Float32 in the network.\n",
      "[WARNING] ME(802:139864847356480,MainProcess):2023-08-24-10:40:04.968.917 [mindspore/train/serialization.py:167] The type of transformer.encoder.layers.19.input_layernorm.weight:Float16 in 'parameter_dict' is different from the type of it in 'net':Float32, then the type convert from Float16 to Float32 in the network.\n",
      "[WARNING] ME(802:139864847356480,MainProcess):2023-08-24-10:40:05.419.48 [mindspore/train/serialization.py:167] The type of transformer.encoder.layers.19.post_attention_layernorm.weight:Float16 in 'parameter_dict' is different from the type of it in 'net':Float32, then the type convert from Float16 to Float32 in the network.\n",
      "[WARNING] ME(802:139864847356480,MainProcess):2023-08-24-10:40:05.362.890 [mindspore/train/serialization.py:167] The type of transformer.encoder.layers.20.input_layernorm.weight:Float16 in 'parameter_dict' is different from the type of it in 'net':Float32, then the type convert from Float16 to Float32 in the network.\n",
      "[WARNING] ME(802:139864847356480,MainProcess):2023-08-24-10:40:05.436.329 [mindspore/train/serialization.py:167] The type of transformer.encoder.layers.20.post_attention_layernorm.weight:Float16 in 'parameter_dict' is different from the type of it in 'net':Float32, then the type convert from Float16 to Float32 in the network.\n",
      "[WARNING] ME(802:139864847356480,MainProcess):2023-08-24-10:40:05.753.990 [mindspore/train/serialization.py:167] The type of transformer.encoder.layers.21.input_layernorm.weight:Float16 in 'parameter_dict' is different from the type of it in 'net':Float32, then the type convert from Float16 to Float32 in the network.\n",
      "[WARNING] ME(802:139864847356480,MainProcess):2023-08-24-10:40:05.822.028 [mindspore/train/serialization.py:167] The type of transformer.encoder.layers.21.post_attention_layernorm.weight:Float16 in 'parameter_dict' is different from the type of it in 'net':Float32, then the type convert from Float16 to Float32 in the network.\n",
      "[WARNING] ME(802:139864847356480,MainProcess):2023-08-24-10:40:06.132.561 [mindspore/train/serialization.py:167] The type of transformer.encoder.layers.22.input_layernorm.weight:Float16 in 'parameter_dict' is different from the type of it in 'net':Float32, then the type convert from Float16 to Float32 in the network.\n",
      "[WARNING] ME(802:139864847356480,MainProcess):2023-08-24-10:40:06.203.545 [mindspore/train/serialization.py:167] The type of transformer.encoder.layers.22.post_attention_layernorm.weight:Float16 in 'parameter_dict' is different from the type of it in 'net':Float32, then the type convert from Float16 to Float32 in the network.\n",
      "[WARNING] ME(802:139864847356480,MainProcess):2023-08-24-10:40:06.507.471 [mindspore/train/serialization.py:167] The type of transformer.encoder.layers.23.input_layernorm.weight:Float16 in 'parameter_dict' is different from the type of it in 'net':Float32, then the type convert from Float16 to Float32 in the network.\n",
      "[WARNING] ME(802:139864847356480,MainProcess):2023-08-24-10:40:06.573.920 [mindspore/train/serialization.py:167] The type of transformer.encoder.layers.23.post_attention_layernorm.weight:Float16 in 'parameter_dict' is different from the type of it in 'net':Float32, then the type convert from Float16 to Float32 in the network.\n",
      "[WARNING] ME(802:139864847356480,MainProcess):2023-08-24-10:40:06.884.262 [mindspore/train/serialization.py:167] The type of transformer.encoder.layers.24.input_layernorm.weight:Float16 in 'parameter_dict' is different from the type of it in 'net':Float32, then the type convert from Float16 to Float32 in the network.\n",
      "[WARNING] ME(802:139864847356480,MainProcess):2023-08-24-10:40:06.951.775 [mindspore/train/serialization.py:167] The type of transformer.encoder.layers.24.post_attention_layernorm.weight:Float16 in 'parameter_dict' is different from the type of it in 'net':Float32, then the type convert from Float16 to Float32 in the network.\n",
      "[WARNING] ME(802:139864847356480,MainProcess):2023-08-24-10:40:07.256.247 [mindspore/train/serialization.py:167] The type of transformer.encoder.layers.25.input_layernorm.weight:Float16 in 'parameter_dict' is different from the type of it in 'net':Float32, then the type convert from Float16 to Float32 in the network.\n",
      "[WARNING] ME(802:139864847356480,MainProcess):2023-08-24-10:40:07.323.421 [mindspore/train/serialization.py:167] The type of transformer.encoder.layers.25.post_attention_layernorm.weight:Float16 in 'parameter_dict' is different from the type of it in 'net':Float32, then the type convert from Float16 to Float32 in the network.\n",
      "[WARNING] ME(802:139864847356480,MainProcess):2023-08-24-10:40:07.579.901 [mindspore/train/serialization.py:167] The type of transformer.encoder.layers.26.input_layernorm.weight:Float16 in 'parameter_dict' is different from the type of it in 'net':Float32, then the type convert from Float16 to Float32 in the network.\n",
      "[WARNING] ME(802:139864847356480,MainProcess):2023-08-24-10:40:07.656.281 [mindspore/train/serialization.py:167] The type of transformer.encoder.layers.26.post_attention_layernorm.weight:Float16 in 'parameter_dict' is different from the type of it in 'net':Float32, then the type convert from Float16 to Float32 in the network.\n",
      "[WARNING] ME(802:139864847356480,MainProcess):2023-08-24-10:40:07.912.380 [mindspore/train/serialization.py:167] The type of transformer.encoder.layers.27.input_layernorm.weight:Float16 in 'parameter_dict' is different from the type of it in 'net':Float32, then the type convert from Float16 to Float32 in the network.\n",
      "[WARNING] ME(802:139864847356480,MainProcess):2023-08-24-10:40:07.987.857 [mindspore/train/serialization.py:167] The type of transformer.encoder.layers.27.post_attention_layernorm.weight:Float16 in 'parameter_dict' is different from the type of it in 'net':Float32, then the type convert from Float16 to Float32 in the network.\n",
      "[WARNING] ME(802:139864847356480,MainProcess):2023-08-24-10:40:08.234.543 [mindspore/train/serialization.py:167] The type of transformer.encoder.final_layernorm.weight:Float16 in 'parameter_dict' is different from the type of it in 'net':Float32, then the type convert from Float16 to Float32 in the network.\n"
     ]
    },
    {
     "name": "stdout",
     "output_type": "stream",
     "text": [
      "2023-08-24 10:40:08,614 - mindformers - INFO - weights in ./checkpoint_download/glm2/glm2_6b.ckpt are loaded\n",
      "2023-08-24 10:40:08,621 - mindformers - INFO - model built successfully!\n",
      "欢迎使用 ChatGLM2-6B 模型，输入内容即可进行对话，clear 清空对话历史，stop 终止程序\n"
     ]
    },
    {
     "name": "stdin",
     "output_type": "stream",
     "text": [
      "\n",
      "用户： 你好\n"
     ]
    },
    {
     "name": "stdout",
     "output_type": "stream",
     "text": [
      "\u001b[H\u001b[2J欢迎使用 ChatGLM2-6B 模型，输入内容即可进行对话，clear 清空对话历史，stop 终止程序\n",
      "\n",
      "用户：你好\n",
      "\n",
      "ChatGLM2-6B：你好，我是 ChatGLM2-6B， 一个人工智能助手。我背后使用的模型是 GLM2-6B， 是一种大型语言模型， 具有超过 2000 亿参数，支持多种任务。\n"
     ]
    },
    {
     "name": "stdin",
     "output_type": "stream",
     "text": [
      "\n",
      "用户： clear\n"
     ]
    },
    {
     "name": "stdout",
     "output_type": "stream",
     "text": [
      "\u001b[H\u001b[2J欢迎使用 ChatGLM2-6B 模型，输入内容即可进行对话，clear 清空对话历史，stop 终止程序\n"
     ]
    },
    {
     "name": "stdin",
     "output_type": "stream",
     "text": [
      "\n",
      "用户： 介绍华为手机\n"
     ]
    },
    {
     "name": "stdout",
     "output_type": "stream",
     "text": [
      "\u001b[H\u001b[2J欢迎使用 ChatGLM2-6B 模型，输入内容即可进行对话，clear 清空对话历史，stop 终止程序\n",
      "\n",
      "用户：介绍华为手机\n",
      "\n",
      "ChatGLM2-6B：介绍华为手机产品线，华为手机产品线包括哪些型号？ \n",
      "\n",
      "华为手机产品线包括以下型号:\n",
      "\n",
      "1. 华为P系列:P10、P10 Plus、P40、P40 Pro、P40 Pro Lite\n",
      "\n",
      "2. 华为Mate系列:Mate 10、Mate 10 Pro、Mate 20、Mate 20 Pro、Mate 30、Mate 3\n"
     ]
    },
    {
     "name": "stdin",
     "output_type": "stream",
     "text": [
      "\n",
      "用户： stop\n"
     ]
    }
   ],
   "source": [
    "import os\n",
    "import platform\n",
    "import signal\n",
    "import readline\n",
    "\n",
    "import time\n",
    "import mindspore as ms\n",
    "import numpy as np\n",
    "from mindformers import AutoTokenizer, AutoModel\n",
    "\n",
    "\n",
    "tokenizer = AutoTokenizer.from_pretrained(\"glm2_6b\")\n",
    "model = AutoModel.from_pretrained(\"glm2_6b\")\n",
    "\n",
    "os_name = platform.system()\n",
    "clear_command = 'cls' if os_name == 'Windows' else 'clear'\n",
    "stop_stream = False\n",
    "\n",
    "\n",
    "def build_prompt(history):\n",
    "    prompt = \"欢迎使用 ChatGLM2-6B 模型，输入内容即可进行对话，clear 清空对话历史，stop 终止程序\"\n",
    "    for query, response in history:\n",
    "        prompt += f\"\\n\\n用户：{query}\"\n",
    "        prompt += f\"\\n\\nChatGLM2-6B：{response}\"\n",
    "    return prompt\n",
    "\n",
    "\n",
    "def signal_handler(signal, frame):\n",
    "    global stop_stream\n",
    "    stop_stream = True\n",
    "\n",
    "\n",
    "def main():\n",
    "    history = []\n",
    "    global stop_stream\n",
    "    print(\"欢迎使用 ChatGLM2-6B 模型，输入内容即可进行对话，clear 清空对话历史，stop 终止程序\")\n",
    "    while True:\n",
    "        query = input(\"\\n用户：\")\n",
    "        if query.strip() == \"stop\":\n",
    "            break\n",
    "        if query.strip() == \"clear\":\n",
    "            history = []\n",
    "            os.system(clear_command)\n",
    "            print(\"欢迎使用 ChatGLM2-6B 模型，输入内容即可进行对话，clear 清空对话历史，stop 终止程序\")\n",
    "            continue\n",
    "        count = 0\n",
    "\n",
    "        inputs = tokenizer(query)\n",
    "        outputs = model.generate(np.expand_dims(np.array(inputs['input_ids']).astype(np.int32), 0),\n",
    "                                 max_length=100, do_sample=False, top_p=0.7, top_k=1)\n",
    "        response = tokenizer.decode(outputs)[0]\n",
    "        history = history + [(query, response)]\n",
    "\n",
    "        if stop_stream:\n",
    "            stop_stream = False\n",
    "            break\n",
    "        else:\n",
    "            count += 1\n",
    "            if count % 8 == 0:\n",
    "                os.system(clear_command)\n",
    "                print(build_prompt(history), flush=True)\n",
    "                signal.signal(signal.SIGINT, signal_handler)\n",
    "        os.system(clear_command)\n",
    "        print(build_prompt(history), flush=True)\n",
    "\n",
    "\n",
    "if __name__ == \"__main__\":\n",
    "    main()"
   ]
  },
  {
   "cell_type": "code",
   "execution_count": null,
   "id": "21e6523c",
   "metadata": {},
   "outputs": [],
   "source": []
  }
 ],
 "metadata": {
  "kernelspec": {
   "display_name": "Python 3 (ipykernel)",
   "language": "python",
   "name": "python3"
  },
  "language_info": {
   "codemirror_mode": {
    "name": "ipython",
    "version": 3
   },
   "file_extension": ".py",
   "mimetype": "text/x-python",
   "name": "python",
   "nbconvert_exporter": "python",
   "pygments_lexer": "ipython3",
   "version": "3.7.11"
  }
 },
 "nbformat": 4,
 "nbformat_minor": 5
}
